{
 "cells": [
  {
   "cell_type": "code",
   "execution_count": 7,
   "id": "2f732512-e176-4bcb-9e4b-331f8ced580a",
   "metadata": {
    "tags": []
   },
   "outputs": [],
   "source": [
    "import os\n",
    "import re\n",
    "import shutil\n",
    "import time\n",
    "import numpy as np\n",
    "import pandas as pd\n",
    "from lxml import etree\n",
    "from selenium import webdriver\n",
    "from selenium.webdriver.chrome.service import Service\n",
    "from selenium.webdriver.common.by import By\n",
    "from selenium.webdriver.support.ui import WebDriverWait\n",
    "from selenium.webdriver.support import expected_conditions as EC\n",
    "from selenium.common.exceptions import TimeoutException, NoSuchElementException\n",
    "\n",
    "from progressbar import ProgressBar"
   ]
  },
  {
   "cell_type": "code",
   "execution_count": 5,
   "id": "8c7a76f5-1cf4-43e6-b74d-05e0cad4b54c",
   "metadata": {
    "tags": []
   },
   "outputs": [
    {
     "name": "stdout",
     "output_type": "stream",
     "text": [
      "72\n"
     ]
    },
    {
     "data": {
      "text/html": [
       "<div>\n",
       "<style scoped>\n",
       "    .dataframe tbody tr th:only-of-type {\n",
       "        vertical-align: middle;\n",
       "    }\n",
       "\n",
       "    .dataframe tbody tr th {\n",
       "        vertical-align: top;\n",
       "    }\n",
       "\n",
       "    .dataframe thead th {\n",
       "        text-align: right;\n",
       "    }\n",
       "</style>\n",
       "<table border=\"1\" class=\"dataframe\">\n",
       "  <thead>\n",
       "    <tr style=\"text-align: right;\">\n",
       "      <th></th>\n",
       "      <th>id</th>\n",
       "      <th>title</th>\n",
       "      <th>doi</th>\n",
       "      <th>pdf</th>\n",
       "    </tr>\n",
       "  </thead>\n",
       "  <tbody>\n",
       "    <tr>\n",
       "      <th>0</th>\n",
       "      <td>5</td>\n",
       "      <td>A Method to Evaluate Spectral Analysis by Spec...</td>\n",
       "      <td>10.3390/s22155638</td>\n",
       "      <td>NaN</td>\n",
       "    </tr>\n",
       "    <tr>\n",
       "      <th>1</th>\n",
       "      <td>6</td>\n",
       "      <td>A Miniaturized Flexible Functional Near-infrar...</td>\n",
       "      <td>10.1109/ISCAS48785.2022.9937752</td>\n",
       "      <td>NaN</td>\n",
       "    </tr>\n",
       "  </tbody>\n",
       "</table>\n",
       "</div>"
      ],
      "text/plain": [
       "   id                                              title  \\\n",
       "0   5  A Method to Evaluate Spectral Analysis by Spec...   \n",
       "1   6  A Miniaturized Flexible Functional Near-infrar...   \n",
       "\n",
       "                               doi  pdf  \n",
       "0                10.3390/s22155638  NaN  \n",
       "1  10.1109/ISCAS48785.2022.9937752  NaN  "
      ]
     },
     "execution_count": 5,
     "metadata": {},
     "output_type": "execute_result"
    }
   ],
   "source": [
    "# Configurations.\n",
    "# doi_url_pattern = \"https://www.doi.org/{doi:s}\"\n",
    "doi_url_pattern = \"https://sci-hub.ru/{doi:s}\"\n",
    "download_path = os.path.join(os.getcwd(), \"download\")\n",
    "save_path = os.path.join(os.getcwd(), \"pdf\")\n",
    "\n",
    "# Load paper list requiring abstracts.\n",
    "df = pd.read_csv(\"./progress.csv\")\n",
    "df = df.loc[:, [\"id\", \"title\", \"doi\", \"pdf\"]]\n",
    "print(len(df))\n",
    "df.head(2)"
   ]
  },
  {
   "cell_type": "code",
   "execution_count": 8,
   "id": "fdcda664-8d5b-45e1-a7d7-4e7d46fd6505",
   "metadata": {
    "tags": []
   },
   "outputs": [],
   "source": [
    "# Start a webdriver instance.\n",
    "service = Service(executable_path=\"./chromedriver.exe\")\n",
    "options = webdriver.ChromeOptions()\n",
    "prefs = {}\n",
    "prefs[\"profile.default_content_settings.popups\"] = 0\n",
    "prefs[\"download.default_directory\"] = download_path\n",
    "options.add_experimental_option(\"prefs\", prefs)\n",
    "\n",
    "driver = webdriver.Chrome(service=service, options=options)"
   ]
  },
  {
   "cell_type": "code",
   "execution_count": 9,
   "id": "62e58646-1188-4c31-93d3-39b7582c8774",
   "metadata": {
    "tags": []
   },
   "outputs": [],
   "source": [
    "def download_wait(directory, timeout=30, nfiles=None):\n",
    "    \"\"\"\n",
    "    Wait for downloads to finish with a specified timeout.\n",
    "\n",
    "    Args\n",
    "    ----\n",
    "    directory : str\n",
    "        The path to the folder where the files will be downloaded.\n",
    "    timeout : int\n",
    "        How many seconds to wait until timing out.\n",
    "    nfiles : int, defaults to None\n",
    "        If provided, also wait for the expected number of files.\n",
    "\n",
    "    \"\"\"\n",
    "    seconds = 0\n",
    "    dl_wait = True\n",
    "    while dl_wait and seconds < timeout:\n",
    "        time.sleep(1)\n",
    "        dl_wait = False\n",
    "        files = os.listdir(directory)\n",
    "        if nfiles and len(files) != nfiles:\n",
    "            dl_wait = True\n",
    "\n",
    "        for fname in files:\n",
    "            if fname.endswith('.crdownload'):\n",
    "                dl_wait = True\n",
    "\n",
    "        seconds += 1\n",
    "    return seconds"
   ]
  },
  {
   "cell_type": "code",
   "execution_count": 14,
   "id": "c6a7841c-0b87-49a5-87e8-88f8cea2326c",
   "metadata": {
    "tags": []
   },
   "outputs": [
    {
     "name": "stderr",
     "output_type": "stream",
     "text": [
      "  0% (0 of 72) |                         | Elapsed Time: 0:00:00 ETA:  --:--:--"
     ]
    },
    {
     "name": "stdout",
     "output_type": "stream",
     "text": [
      "0:10.3390/s22155638 'WebDriver' object has no attribute 'find_element_by_xpath'\n"
     ]
    },
    {
     "name": "stderr",
     "output_type": "stream",
     "text": [
      "  2% (2 of 72) |                         | Elapsed Time: 0:00:07 ETA:   0:04:05"
     ]
    },
    {
     "name": "stdout",
     "output_type": "stream",
     "text": [
      "1:10.1109/ISCAS48785.2022.9937752 'WebDriver' object has no attribute 'find_element_by_xpath'\n"
     ]
    },
    {
     "name": "stderr",
     "output_type": "stream",
     "text": [
      "  4% (3 of 72) |#                        | Elapsed Time: 0:00:16 ETA:   0:10:21"
     ]
    },
    {
     "name": "stdout",
     "output_type": "stream",
     "text": [
      "2:10.1109/ICOIACT55506.2022.9972007 'WebDriver' object has no attribute 'find_element_by_xpath'\n"
     ]
    },
    {
     "name": "stderr",
     "output_type": "stream",
     "text": [
      "  5% (4 of 72) |#                        | Elapsed Time: 0:00:21 ETA:   0:05:40"
     ]
    },
    {
     "name": "stdout",
     "output_type": "stream",
     "text": [
      "3:10.3390/electronics11131971 'WebDriver' object has no attribute 'find_element_by_xpath'\n"
     ]
    },
    {
     "name": "stderr",
     "output_type": "stream",
     "text": [
      "  6% (5 of 72) |#                        | Elapsed Time: 0:00:28 ETA:   0:08:45"
     ]
    },
    {
     "name": "stdout",
     "output_type": "stream",
     "text": [
      "4:10.3390/s22072749 'WebDriver' object has no attribute 'find_element_by_xpath'\n"
     ]
    },
    {
     "name": "stderr",
     "output_type": "stream",
     "text": [
      "  8% (6 of 72) |##                       | Elapsed Time: 0:00:35 ETA:   0:07:17"
     ]
    },
    {
     "name": "stdout",
     "output_type": "stream",
     "text": [
      "5:10.1016/j.compag.2022.106872 'WebDriver' object has no attribute 'find_element_by_xpath'\n"
     ]
    },
    {
     "name": "stderr",
     "output_type": "stream",
     "text": [
      "  9% (7 of 72) |##                       | Elapsed Time: 0:00:45 ETA:   0:10:46"
     ]
    },
    {
     "name": "stdout",
     "output_type": "stream",
     "text": [
      "6:10.3390/s22051915 'WebDriver' object has no attribute 'find_element_by_xpath'\n"
     ]
    },
    {
     "name": "stderr",
     "output_type": "stream",
     "text": [
      " 11% (8 of 72) |##                       | Elapsed Time: 0:00:55 ETA:   0:10:13"
     ]
    },
    {
     "name": "stdout",
     "output_type": "stream",
     "text": [
      "7:10.1109/UEMCON54665.2022.9965628 'WebDriver' object has no attribute 'find_element_by_xpath'\n"
     ]
    },
    {
     "name": "stderr",
     "output_type": "stream",
     "text": [
      " 12% (9 of 72) |###                      | Elapsed Time: 0:01:04 ETA:   0:09:30"
     ]
    },
    {
     "name": "stdout",
     "output_type": "stream",
     "text": [
      "8:10.1109/TBCAS.2022.3149766 'WebDriver' object has no attribute 'find_element_by_xpath'\n"
     ]
    },
    {
     "name": "stderr",
     "output_type": "stream",
     "text": [
      " 13% (10 of 72) |###                     | Elapsed Time: 0:01:10 ETA:   0:06:09"
     ]
    },
    {
     "name": "stdout",
     "output_type": "stream",
     "text": [
      "9:10.1016/j.culher.2022.04.003 'WebDriver' object has no attribute 'find_element_by_xpath'\n"
     ]
    },
    {
     "name": "stderr",
     "output_type": "stream",
     "text": [
      " 15% (11 of 72) |###                     | Elapsed Time: 0:01:17 ETA:   0:07:45"
     ]
    },
    {
     "name": "stdout",
     "output_type": "stream",
     "text": [
      "10:10.1117/12.2642271 'WebDriver' object has no attribute 'find_element_by_xpath'\n"
     ]
    },
    {
     "name": "stderr",
     "output_type": "stream",
     "text": [
      " 16% (12 of 72) |####                    | Elapsed Time: 0:01:24 ETA:   0:06:56"
     ]
    },
    {
     "name": "stdout",
     "output_type": "stream",
     "text": [
      "11:10.1117/12.2638467 'WebDriver' object has no attribute 'find_element_by_xpath'\n"
     ]
    },
    {
     "name": "stderr",
     "output_type": "stream",
     "text": [
      " 18% (13 of 72) |####                    | Elapsed Time: 0:01:33 ETA:   0:08:16"
     ]
    },
    {
     "name": "stdout",
     "output_type": "stream",
     "text": [
      "12:10.1007/978-3-030-96641-6\\_11 'WebDriver' object has no attribute 'find_element_by_xpath'\n"
     ]
    },
    {
     "name": "stderr",
     "output_type": "stream",
     "text": [
      " 19% (14 of 72) |####                    | Elapsed Time: 0:01:42 ETA:   0:09:15"
     ]
    },
    {
     "name": "stdout",
     "output_type": "stream",
     "text": [
      "13:10.1109/MetroAgriFor55389.2022.9964732 'WebDriver' object has no attribute 'find_element_by_xpath'\n"
     ]
    },
    {
     "name": "stderr",
     "output_type": "stream",
     "text": [
      " 20% (15 of 72) |#####                   | Elapsed Time: 0:01:50 ETA:   0:07:10"
     ]
    },
    {
     "name": "stdout",
     "output_type": "stream",
     "text": [
      "14:10.3390/s22114010 'WebDriver' object has no attribute 'find_element_by_xpath'\n"
     ]
    },
    {
     "name": "stderr",
     "output_type": "stream",
     "text": [
      " 22% (16 of 72) |#####                   | Elapsed Time: 0:01:55 ETA:   0:05:14"
     ]
    },
    {
     "name": "stdout",
     "output_type": "stream",
     "text": [
      "15:10.3390/s22010249 'WebDriver' object has no attribute 'find_element_by_xpath'\n"
     ]
    },
    {
     "name": "stderr",
     "output_type": "stream",
     "text": [
      " 23% (17 of 72) |#####                   | Elapsed Time: 0:02:03 ETA:   0:07:00"
     ]
    },
    {
     "name": "stdout",
     "output_type": "stream",
     "text": [
      "16:10.1109/ICHMS56717.2022.9980752 'WebDriver' object has no attribute 'find_element_by_xpath'\n"
     ]
    },
    {
     "name": "stderr",
     "output_type": "stream",
     "text": [
      " 25% (18 of 72) |######                  | Elapsed Time: 0:02:10 ETA:   0:06:42"
     ]
    },
    {
     "name": "stdout",
     "output_type": "stream",
     "text": [
      "17:10.1016/j.chemolab.2021.104459 'WebDriver' object has no attribute 'find_element_by_xpath'\n"
     ]
    },
    {
     "ename": "KeyboardInterrupt",
     "evalue": "",
     "output_type": "error",
     "traceback": [
      "\u001b[1;31m---------------------------------------------------------------------------\u001b[0m",
      "\u001b[1;31mKeyboardInterrupt\u001b[0m                         Traceback (most recent call last)",
      "Cell \u001b[1;32mIn[14], line 43\u001b[0m\n\u001b[0;32m     40\u001b[0m \u001b[38;5;66;03m# Update progress.\u001b[39;00m\n\u001b[0;32m     41\u001b[0m pbar\u001b[38;5;241m.\u001b[39mupdate(index\u001b[38;5;241m+\u001b[39m\u001b[38;5;241m1\u001b[39m)\n\u001b[1;32m---> 43\u001b[0m time\u001b[38;5;241m.\u001b[39msleep(np\u001b[38;5;241m.\u001b[39mrandom\u001b[38;5;241m.\u001b[39mrandint(\u001b[38;5;241m5\u001b[39m, \u001b[38;5;241m10\u001b[39m))\n",
      "\u001b[1;31mKeyboardInterrupt\u001b[0m: "
     ]
    }
   ],
   "source": [
    "# Iterating through papers.\n",
    "re_pdf = re.compile(\".*/(?P<pdf_name>.*?\\.pdf).*\")\n",
    "pbar = ProgressBar(max_value=len(df))\n",
    "\n",
    "for index, row in df.iterrows():\n",
    "    \n",
    "    if row.pdf == True:\n",
    "        pbar.update(index+1)\n",
    "        continue\n",
    "    \n",
    "    # Check if there is pdf.\n",
    "    try:\n",
    "        doi = row.doi\n",
    "        url = doi_url_pattern.format( doi=doi)\n",
    "        # print(url, end=\" \")\n",
    "        driver.get(url)\n",
    "\n",
    "        button = driver.find_element_by_xpath(\"//div[@id='buttons']//button\")\n",
    "        button.click()\n",
    "\n",
    "        # Wait until downloaded. \n",
    "        download_wait(download_path)\n",
    "\n",
    "        # Move file. \n",
    "        download_href = button.get_attribute(\"onclick\")\n",
    "        pdf_name = re_pdf.match(download_href).group(\"pdf_name\")\n",
    "        shutil.move(os.path.join(download_path, pdf_name),\n",
    "                    os.path.join(save_path, \"{}.pdf\".format(doi.replace(\"/\", \"__\"))))\n",
    "        \n",
    "        # Record.\n",
    "        df.loc[index, \"pdf\"] = True\n",
    "        \n",
    "        # print(\" pdf downloaded\")\n",
    "\n",
    "    except Exception as e:\n",
    "        print(index, end=\":\")\n",
    "        print(doi, end=\" \")\n",
    "        print(str(e))\n",
    "    \n",
    "    # Update progress.\n",
    "    pbar.update(index+1)\n",
    "    \n",
    "    time.sleep(np.random.randint(5, 10))"
   ]
  },
  {
   "cell_type": "code",
   "execution_count": 25,
   "id": "a4ee724a-8552-4381-b036-a5a30f13ffbd",
   "metadata": {},
   "outputs": [],
   "source": [
    "df.to_csv(\"progress.csv\", index=None)"
   ]
  },
  {
   "cell_type": "code",
   "execution_count": 27,
   "id": "125e7901-a543-43f5-92d2-afe226b387d5",
   "metadata": {},
   "outputs": [
    {
     "data": {
      "text/plain": [
       "290"
      ]
     },
     "execution_count": 27,
     "metadata": {},
     "output_type": "execute_result"
    }
   ],
   "source": [
    "df.pdf.sum()"
   ]
  },
  {
   "cell_type": "code",
   "execution_count": null,
   "id": "ee7c7ffc-9162-40bb-aa7e-cb4d52e6615e",
   "metadata": {},
   "outputs": [],
   "source": []
  }
 ],
 "metadata": {
  "kernelspec": {
   "display_name": "Python 3 (ipykernel)",
   "language": "python",
   "name": "python3"
  },
  "language_info": {
   "codemirror_mode": {
    "name": "ipython",
    "version": 3
   },
   "file_extension": ".py",
   "mimetype": "text/x-python",
   "name": "python",
   "nbconvert_exporter": "python",
   "pygments_lexer": "ipython3",
   "version": "3.11.3"
  }
 },
 "nbformat": 4,
 "nbformat_minor": 5
}

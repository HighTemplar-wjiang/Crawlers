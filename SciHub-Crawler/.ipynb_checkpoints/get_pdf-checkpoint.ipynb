{
 "cells": [
  {
   "cell_type": "code",
   "execution_count": 1,
   "id": "2f732512-e176-4bcb-9e4b-331f8ced580a",
   "metadata": {},
   "outputs": [],
   "source": [
    "import os\n",
    "import re\n",
    "import shutil\n",
    "import time\n",
    "import numpy as np\n",
    "import pandas as pd\n",
    "from lxml import etree\n",
    "from selenium import webdriver\n",
    "from selenium.webdriver.common.by import By\n",
    "from selenium.webdriver.support.ui import WebDriverWait\n",
    "from selenium.webdriver.support import expected_conditions as EC\n",
    "from selenium.common.exceptions import TimeoutException, NoSuchElementException\n",
    "\n",
    "from progressbar import ProgressBar"
   ]
  },
  {
   "cell_type": "code",
   "execution_count": 22,
   "id": "8c7a76f5-1cf4-43e6-b74d-05e0cad4b54c",
   "metadata": {},
   "outputs": [
    {
     "name": "stdout",
     "output_type": "stream",
     "text": [
      "419\n"
     ]
    },
    {
     "data": {
      "text/html": [
       "<div>\n",
       "<style scoped>\n",
       "    .dataframe tbody tr th:only-of-type {\n",
       "        vertical-align: middle;\n",
       "    }\n",
       "\n",
       "    .dataframe tbody tr th {\n",
       "        vertical-align: top;\n",
       "    }\n",
       "\n",
       "    .dataframe thead th {\n",
       "        text-align: right;\n",
       "    }\n",
       "</style>\n",
       "<table border=\"1\" class=\"dataframe\">\n",
       "  <thead>\n",
       "    <tr style=\"text-align: right;\">\n",
       "      <th></th>\n",
       "      <th>id</th>\n",
       "      <th>title</th>\n",
       "      <th>doi</th>\n",
       "      <th>pdf</th>\n",
       "    </tr>\n",
       "  </thead>\n",
       "  <tbody>\n",
       "    <tr>\n",
       "      <th>0</th>\n",
       "      <td>5</td>\n",
       "      <td>3D near infrared and ultrasound imaging of per...</td>\n",
       "      <td>10.1007/978-3-319-46726-9_45</td>\n",
       "      <td>True</td>\n",
       "    </tr>\n",
       "    <tr>\n",
       "      <th>1</th>\n",
       "      <td>12</td>\n",
       "      <td>A Brain-Computer Interface Based on a Few-Chan...</td>\n",
       "      <td>10.1109/ACCESS.2016.2637409</td>\n",
       "      <td>True</td>\n",
       "    </tr>\n",
       "  </tbody>\n",
       "</table>\n",
       "</div>"
      ],
      "text/plain": [
       "   id                                              title  \\\n",
       "0   5  3D near infrared and ultrasound imaging of per...   \n",
       "1  12  A Brain-Computer Interface Based on a Few-Chan...   \n",
       "\n",
       "                            doi   pdf  \n",
       "0  10.1007/978-3-319-46726-9_45  True  \n",
       "1   10.1109/ACCESS.2016.2637409  True  "
      ]
     },
     "execution_count": 22,
     "metadata": {},
     "output_type": "execute_result"
    }
   ],
   "source": [
    "# Configurations.\n",
    "# doi_url_pattern = \"https://www.doi.org/{doi:s}\"\n",
    "doi_url_pattern = \"https://sci-hub.ru/{doi:s}\"\n",
    "download_path = os.path.join(os.getcwd(), \"download\")\n",
    "save_path = os.path.join(os.getcwd(), \"pdf\")\n",
    "\n",
    "# Load paper list requiring abstracts.\n",
    "df = pd.read_csv(\"./progress.csv\")\n",
    "df = df.loc[:, [\"id\", \"title\", \"doi\", \"pdf\"]]\n",
    "print(len(df))\n",
    "df.head(2)"
   ]
  },
  {
   "cell_type": "code",
   "execution_count": 23,
   "id": "fdcda664-8d5b-45e1-a7d7-4e7d46fd6505",
   "metadata": {},
   "outputs": [],
   "source": [
    "# Start a webdriver instance.\n",
    "options = webdriver.ChromeOptions()\n",
    "prefs = {}\n",
    "prefs[\"profile.default_content_settings.popups\"] = 0\n",
    "prefs[\"download.default_directory\"] = download_path\n",
    "options.add_experimental_option(\"prefs\", prefs)\n",
    "\n",
    "driver = webdriver.Chrome(\"./chromedriver.exe\", options=options)"
   ]
  },
  {
   "cell_type": "code",
   "execution_count": 4,
   "id": "62e58646-1188-4c31-93d3-39b7582c8774",
   "metadata": {},
   "outputs": [],
   "source": [
    "def download_wait(directory, timeout=30, nfiles=None):\n",
    "    \"\"\"\n",
    "    Wait for downloads to finish with a specified timeout.\n",
    "\n",
    "    Args\n",
    "    ----\n",
    "    directory : str\n",
    "        The path to the folder where the files will be downloaded.\n",
    "    timeout : int\n",
    "        How many seconds to wait until timing out.\n",
    "    nfiles : int, defaults to None\n",
    "        If provided, also wait for the expected number of files.\n",
    "\n",
    "    \"\"\"\n",
    "    seconds = 0\n",
    "    dl_wait = True\n",
    "    while dl_wait and seconds < timeout:\n",
    "        time.sleep(1)\n",
    "        dl_wait = False\n",
    "        files = os.listdir(directory)\n",
    "        if nfiles and len(files) != nfiles:\n",
    "            dl_wait = True\n",
    "\n",
    "        for fname in files:\n",
    "            if fname.endswith('.crdownload'):\n",
    "                dl_wait = True\n",
    "\n",
    "        seconds += 1\n",
    "    return seconds"
   ]
  },
  {
   "cell_type": "code",
   "execution_count": null,
   "id": "c6a7841c-0b87-49a5-87e8-88f8cea2326c",
   "metadata": {},
   "outputs": [],
   "source": [
    "# Iterating through papers.\n",
    "re_pdf = re.compile(\".*/(?P<pdf_name>.*?\\.pdf).*\")\n",
    "pbar = ProgressBar(max_value=len(df))\n",
    "\n",
    "for index, row in df.iterrows():\n",
    "    \n",
    "    if row.pdf:\n",
    "        pbar.update(index+1)\n",
    "        continue\n",
    "    \n",
    "    # Check if there is pdf.\n",
    "    try:\n",
    "        doi = row.doi\n",
    "        url = doi_url_pattern.format(doi=doi)\n",
    "        # print(url, end=\" \")\n",
    "        driver.get(url)\n",
    "\n",
    "        button = driver.find_element_by_xpath(\"//div[@id='buttons']//button\")\n",
    "        button.click()\n",
    "\n",
    "        # Wait until downloaded. \n",
    "        download_wait(download_path)\n",
    "\n",
    "        # Move file. \n",
    "        download_href = button.get_attribute(\"onclick\")\n",
    "        pdf_name = re_pdf.match(download_href).group(\"pdf_name\")\n",
    "        shutil.move(os.path.join(download_path, pdf_name),\n",
    "                    os.path.join(save_path, \"{}.pdf\".format(doi.replace(\"/\", \"__\"))))\n",
    "        \n",
    "        # Record.\n",
    "        df.loc[index, \"pdf\"] = True\n",
    "        \n",
    "        # print(\" pdf downloaded\")\n",
    "\n",
    "    except Exception as e:\n",
    "        print(index, end=\":\")\n",
    "        print(doi, end=\" \")\n",
    "        print(str(e))\n",
    "    \n",
    "    # Update progress.\n",
    "    pbar.update(index+1)\n",
    "    \n",
    "    time.sleep(np.random.randint(5, 10))"
   ]
  },
  {
   "cell_type": "code",
   "execution_count": 25,
   "id": "a4ee724a-8552-4381-b036-a5a30f13ffbd",
   "metadata": {},
   "outputs": [],
   "source": [
    "df.to_csv(\"progress.csv\", index=None)"
   ]
  },
  {
   "cell_type": "code",
   "execution_count": 26,
   "id": "60dbca05-6892-4758-bf33-19c94afaa8e8",
   "metadata": {},
   "outputs": [
    {
     "data": {
      "text/html": [
       "<div>\n",
       "<style scoped>\n",
       "    .dataframe tbody tr th:only-of-type {\n",
       "        vertical-align: middle;\n",
       "    }\n",
       "\n",
       "    .dataframe tbody tr th {\n",
       "        vertical-align: top;\n",
       "    }\n",
       "\n",
       "    .dataframe thead th {\n",
       "        text-align: right;\n",
       "    }\n",
       "</style>\n",
       "<table border=\"1\" class=\"dataframe\">\n",
       "  <thead>\n",
       "    <tr style=\"text-align: right;\">\n",
       "      <th></th>\n",
       "      <th>id</th>\n",
       "      <th>title</th>\n",
       "      <th>doi</th>\n",
       "      <th>pdf</th>\n",
       "    </tr>\n",
       "  </thead>\n",
       "  <tbody>\n",
       "    <tr>\n",
       "      <th>0</th>\n",
       "      <td>5</td>\n",
       "      <td>3D near infrared and ultrasound imaging of per...</td>\n",
       "      <td>10.1007/978-3-319-46726-9_45</td>\n",
       "      <td>True</td>\n",
       "    </tr>\n",
       "    <tr>\n",
       "      <th>1</th>\n",
       "      <td>12</td>\n",
       "      <td>A Brain-Computer Interface Based on a Few-Chan...</td>\n",
       "      <td>10.1109/ACCESS.2016.2637409</td>\n",
       "      <td>True</td>\n",
       "    </tr>\n",
       "    <tr>\n",
       "      <th>2</th>\n",
       "      <td>16</td>\n",
       "      <td>A Compact Continuous non-Invasive Glucose Moni...</td>\n",
       "      <td>10.1109/BIOCAS.2018.8584693</td>\n",
       "      <td>True</td>\n",
       "    </tr>\n",
       "    <tr>\n",
       "      <th>3</th>\n",
       "      <td>17</td>\n",
       "      <td>A compact multispectral image capture unit for...</td>\n",
       "      <td>10.1109/I2MTC.2016.7520445</td>\n",
       "      <td>True</td>\n",
       "    </tr>\n",
       "    <tr>\n",
       "      <th>4</th>\n",
       "      <td>18</td>\n",
       "      <td>A compact NIR fluorescence imaging system with...</td>\n",
       "      <td>10.1109/ISCAS.2015.7168960</td>\n",
       "      <td>True</td>\n",
       "    </tr>\n",
       "  </tbody>\n",
       "</table>\n",
       "</div>"
      ],
      "text/plain": [
       "   id                                              title  \\\n",
       "0   5  3D near infrared and ultrasound imaging of per...   \n",
       "1  12  A Brain-Computer Interface Based on a Few-Chan...   \n",
       "2  16  A Compact Continuous non-Invasive Glucose Moni...   \n",
       "3  17  A compact multispectral image capture unit for...   \n",
       "4  18  A compact NIR fluorescence imaging system with...   \n",
       "\n",
       "                            doi   pdf  \n",
       "0  10.1007/978-3-319-46726-9_45  True  \n",
       "1   10.1109/ACCESS.2016.2637409  True  \n",
       "2   10.1109/BIOCAS.2018.8584693  True  \n",
       "3    10.1109/I2MTC.2016.7520445  True  \n",
       "4    10.1109/ISCAS.2015.7168960  True  "
      ]
     },
     "execution_count": 26,
     "metadata": {},
     "output_type": "execute_result"
    }
   ],
   "source": [
    "df.head()"
   ]
  },
  {
   "cell_type": "code",
   "execution_count": 27,
   "id": "125e7901-a543-43f5-92d2-afe226b387d5",
   "metadata": {},
   "outputs": [
    {
     "data": {
      "text/plain": [
       "290"
      ]
     },
     "execution_count": 27,
     "metadata": {},
     "output_type": "execute_result"
    }
   ],
   "source": [
    "df.pdf.sum()"
   ]
  },
  {
   "cell_type": "code",
   "execution_count": null,
   "id": "ee7c7ffc-9162-40bb-aa7e-cb4d52e6615e",
   "metadata": {},
   "outputs": [],
   "source": []
  }
 ],
 "metadata": {
  "kernelspec": {
   "display_name": "Python 3",
   "language": "python",
   "name": "python3"
  },
  "language_info": {
   "codemirror_mode": {
    "name": "ipython",
    "version": 3
   },
   "file_extension": ".py",
   "mimetype": "text/x-python",
   "name": "python",
   "nbconvert_exporter": "python",
   "pygments_lexer": "ipython3",
   "version": "3.6.13"
  }
 },
 "nbformat": 4,
 "nbformat_minor": 5
}

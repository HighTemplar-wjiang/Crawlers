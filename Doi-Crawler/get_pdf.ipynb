{
 "cells": [
  {
   "cell_type": "code",
   "execution_count": 18,
   "id": "2f732512-e176-4bcb-9e4b-331f8ced580a",
   "metadata": {
    "tags": []
   },
   "outputs": [],
   "source": [
    "import os\n",
    "import re\n",
    "import glob\n",
    "from pathlib import Path\n",
    "import shutil\n",
    "import time\n",
    "import numpy as np\n",
    "import pandas as pd\n",
    "from lxml import etree\n",
    "from selenium import webdriver\n",
    "from selenium.webdriver.chrome.service import Service\n",
    "from selenium.webdriver.common.by import By\n",
    "from selenium.webdriver.support.ui import WebDriverWait\n",
    "from selenium.webdriver.support import expected_conditions as EC\n",
    "from selenium.common.exceptions import TimeoutException, NoSuchElementException\n",
    "\n",
    "from progressbar import ProgressBar"
   ]
  },
  {
   "cell_type": "code",
   "execution_count": 2,
   "id": "8c7a76f5-1cf4-43e6-b74d-05e0cad4b54c",
   "metadata": {
    "tags": []
   },
   "outputs": [
    {
     "name": "stdout",
     "output_type": "stream",
     "text": [
      "72\n"
     ]
    },
    {
     "data": {
      "text/html": [
       "<div>\n",
       "<style scoped>\n",
       "    .dataframe tbody tr th:only-of-type {\n",
       "        vertical-align: middle;\n",
       "    }\n",
       "\n",
       "    .dataframe tbody tr th {\n",
       "        vertical-align: top;\n",
       "    }\n",
       "\n",
       "    .dataframe thead th {\n",
       "        text-align: right;\n",
       "    }\n",
       "</style>\n",
       "<table border=\"1\" class=\"dataframe\">\n",
       "  <thead>\n",
       "    <tr style=\"text-align: right;\">\n",
       "      <th></th>\n",
       "      <th>id</th>\n",
       "      <th>title</th>\n",
       "      <th>doi</th>\n",
       "      <th>pdf</th>\n",
       "    </tr>\n",
       "  </thead>\n",
       "  <tbody>\n",
       "    <tr>\n",
       "      <th>0</th>\n",
       "      <td>5</td>\n",
       "      <td>A Method to Evaluate Spectral Analysis by Spec...</td>\n",
       "      <td>10.3390/s22155638</td>\n",
       "      <td>NaN</td>\n",
       "    </tr>\n",
       "    <tr>\n",
       "      <th>1</th>\n",
       "      <td>6</td>\n",
       "      <td>A Miniaturized Flexible Functional Near-infrar...</td>\n",
       "      <td>10.1109/ISCAS48785.2022.9937752</td>\n",
       "      <td>NaN</td>\n",
       "    </tr>\n",
       "  </tbody>\n",
       "</table>\n",
       "</div>"
      ],
      "text/plain": [
       "   id                                              title  \\\n",
       "0   5  A Method to Evaluate Spectral Analysis by Spec...   \n",
       "1   6  A Miniaturized Flexible Functional Near-infrar...   \n",
       "\n",
       "                               doi  pdf  \n",
       "0                10.3390/s22155638  NaN  \n",
       "1  10.1109/ISCAS48785.2022.9937752  NaN  "
      ]
     },
     "execution_count": 2,
     "metadata": {},
     "output_type": "execute_result"
    }
   ],
   "source": [
    "# Configurations.\n",
    "doi_url_pattern = \"https://www.doi.org/{doi:s}\"\n",
    "# doi_url_pattern = \"https://sci-hub.ru/{doi:s}\"\n",
    "download_path = os.path.join(os.getcwd(), \"download\")\n",
    "save_path = os.path.join(os.getcwd(), \"pdf\")\n",
    "\n",
    "# Load paper list requiring abstracts.\n",
    "df = pd.read_csv(\"./progress.csv\")\n",
    "df = df.loc[:, [\"id\", \"title\", \"doi\", \"pdf\"]]\n",
    "print(len(df))\n",
    "df.head(2)"
   ]
  },
  {
   "cell_type": "code",
   "execution_count": 81,
   "id": "fdcda664-8d5b-45e1-a7d7-4e7d46fd6505",
   "metadata": {
    "tags": []
   },
   "outputs": [],
   "source": [
    "# Start a webdriver instance.\n",
    "service = Service(executable_path=\"./chromedriver.exe\")\n",
    "options = webdriver.ChromeOptions()\n",
    "prefs = {}\n",
    "prefs[\"profile.default_content_settings.popups\"] = 0\n",
    "prefs[\"download.default_directory\"] = download_path\n",
    "options.add_experimental_option(\"prefs\", prefs)\n",
    "\n",
    "driver = webdriver.Chrome(service=service, options=options)"
   ]
  },
  {
   "cell_type": "code",
   "execution_count": 4,
   "id": "62e58646-1188-4c31-93d3-39b7582c8774",
   "metadata": {
    "tags": []
   },
   "outputs": [],
   "source": [
    "def download_wait(directory, timeout=30, nfiles=None):\n",
    "    \"\"\"\n",
    "    Wait for downloads to finish with a specified timeout.\n",
    "\n",
    "    Args\n",
    "    ----\n",
    "    directory : str\n",
    "        The path to the folder where the files will be downloaded.\n",
    "    timeout : int\n",
    "        How many seconds to wait until timing out.\n",
    "    nfiles : int, defaults to None\n",
    "        If provided, also wait for the expected number of files.\n",
    "\n",
    "    \"\"\"\n",
    "    seconds = 0\n",
    "    dl_wait = True\n",
    "    while dl_wait and seconds < timeout:\n",
    "        time.sleep(1)\n",
    "        dl_wait = False\n",
    "        files = os.listdir(directory)\n",
    "        if nfiles and len(files) != nfiles:\n",
    "            dl_wait = True\n",
    "\n",
    "        for fname in files:\n",
    "            if fname.endswith('.crdownload'):\n",
    "                dl_wait = True\n",
    "\n",
    "        seconds += 1\n",
    "    return seconds"
   ]
  },
  {
   "cell_type": "code",
   "execution_count": 5,
   "id": "3a8560ee-25f8-4a07-aaf9-792dbbf81a94",
   "metadata": {
    "tags": []
   },
   "outputs": [],
   "source": [
    "# Init generator. \n",
    "df_iter = df.iterrows()"
   ]
  },
  {
   "cell_type": "code",
   "execution_count": 174,
   "id": "c6a7841c-0b87-49a5-87e8-88f8cea2326c",
   "metadata": {
    "tags": []
   },
   "outputs": [
    {
     "ename": "StopIteration",
     "evalue": "",
     "output_type": "error",
     "traceback": [
      "\u001b[1;31m---------------------------------------------------------------------------\u001b[0m",
      "\u001b[1;31mStopIteration\u001b[0m                             Traceback (most recent call last)",
      "Cell \u001b[1;32mIn[174], line 4\u001b[0m\n\u001b[0;32m      1\u001b[0m \u001b[38;5;66;03m# Iterating through papers.\u001b[39;00m\n\u001b[0;32m      2\u001b[0m pbar \u001b[38;5;241m=\u001b[39m ProgressBar(max_value\u001b[38;5;241m=\u001b[39m\u001b[38;5;28mlen\u001b[39m(df))\n\u001b[1;32m----> 4\u001b[0m index, row \u001b[38;5;241m=\u001b[39m \u001b[38;5;28mnext\u001b[39m(df_iter)\n\u001b[0;32m      6\u001b[0m \u001b[38;5;66;03m# Go to page.\u001b[39;00m\n\u001b[0;32m      7\u001b[0m \u001b[38;5;28;01mtry\u001b[39;00m:\n",
      "\u001b[1;31mStopIteration\u001b[0m: "
     ]
    }
   ],
   "source": [
    "# Iterating through papers.\n",
    "pbar = ProgressBar(max_value=len(df))\n",
    "\n",
    "index, row = next(df_iter)\n",
    "    \n",
    "# Go to page.\n",
    "try:\n",
    "    doi = row.doi\n",
    "    url = doi_url_pattern.format( doi=doi)\n",
    "    # print(url, end=\" \")\n",
    "    print(f\"{index}: {url}\")\n",
    "    driver.get(url)\n",
    "\n",
    "#     button = driver.find_element_by_xpath(\"//div[@id='buttons']//button\")\n",
    "#     button.click()\n",
    "\n",
    "    # Wait until downloaded. \n",
    "    # download_wait(download_path)\n",
    "\n",
    "    # print(\" pdf downloaded\")\n",
    "\n",
    "except Exception as e:\n",
    "    print(index, end=\":\")\n",
    "    print(doi, end=\" \")\n",
    "    print(str(e))\n",
    "\n",
    "# Update progress.\n",
    "pbar.update(index+1)"
   ]
  },
  {
   "cell_type": "code",
   "execution_count": 173,
   "id": "cfbb17c1-9aab-4693-9ac1-c3740fb816d8",
   "metadata": {
    "tags": []
   },
   "outputs": [
    {
     "name": "stdout",
     "output_type": "stream",
     "text": [
      "D:\\projects\\Crawlers\\Doi-Crawler\\download\\sensors-22-09704.pdf --> D:\\projects\\Crawlers\\Doi-Crawler\\pdf\\0115_10.3390__s22249704.pdf\n"
     ]
    }
   ],
   "source": [
    "# Move PDF.\n",
    "# re_pdf = re.compile(\".*/(?P<pdf_name>.*?\\.pdf).*\")\n",
    "pdf_files = glob.glob(download_path + \"/*.pdf\")\n",
    "if len(pdf_files) == 1:\n",
    "    # pdf_name = Path(pdf_files[0]).stem\n",
    "    pdf_savepath = os.path.join(save_path, \"{:04d}_{}.pdf\".format(row.id, doi.replace(\"\\\\\", \"\").replace(\"/\", \"__\")))\n",
    "    shutil.move(pdf_files[0], pdf_savepath)\n",
    "    \n",
    "    print(f\"{pdf_files[0]} --> {pdf_savepath}\")\n",
    "\n",
    "    # Record.\n",
    "    df.loc[index, \"pdf\"] = True\n",
    "else:\n",
    "    print(f\"Error: {len(pdf_files)} pdf files found.\")"
   ]
  },
  {
   "cell_type": "code",
   "execution_count": 163,
   "id": "5c1e1fc1-8b58-4cda-9e72-1b9893d67d64",
   "metadata": {
    "tags": []
   },
   "outputs": [
    {
     "data": {
      "text/plain": [
       "'https://www.doi.org/10.1016/j.compag.2022.106945'"
      ]
     },
     "execution_count": 163,
     "metadata": {},
     "output_type": "execute_result"
    }
   ],
   "source": [
    "url"
   ]
  },
  {
   "cell_type": "code",
   "execution_count": 26,
   "id": "ee7c7ffc-9162-40bb-aa7e-cb4d52e6615e",
   "metadata": {
    "tags": []
   },
   "outputs": [
    {
     "data": {
      "text/plain": [
       "5"
      ]
     },
     "execution_count": 26,
     "metadata": {},
     "output_type": "execute_result"
    }
   ],
   "source": [
    "row.id"
   ]
  },
  {
   "cell_type": "code",
   "execution_count": null,
   "id": "ad977e83-e044-49fd-8f3f-e915b83eec83",
   "metadata": {},
   "outputs": [],
   "source": []
  }
 ],
 "metadata": {
  "kernelspec": {
   "display_name": "Python 3 (ipykernel)",
   "language": "python",
   "name": "python3"
  },
  "language_info": {
   "codemirror_mode": {
    "name": "ipython",
    "version": 3
   },
   "file_extension": ".py",
   "mimetype": "text/x-python",
   "name": "python",
   "nbconvert_exporter": "python",
   "pygments_lexer": "ipython3",
   "version": "3.11.3"
  }
 },
 "nbformat": 4,
 "nbformat_minor": 5
}
